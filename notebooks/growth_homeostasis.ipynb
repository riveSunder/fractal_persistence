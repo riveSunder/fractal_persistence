{
 "cells": [
  {
   "cell_type": "code",
   "execution_count": null,
   "id": "76daf8ff-af72-43f5-9761-676b67601c2f",
   "metadata": {},
   "outputs": [],
   "source": [
    "import os\n",
    "import time\n",
    "\n",
    "from jax import numpy as np\n",
    "import numpy.random as npr\n",
    "\n",
    "import matplotlib\n",
    "import matplotlib.animation \n",
    "import matplotlib.pyplot as plt\n",
    "matplotlib.rcParams[\"animation.embed_limit\"] = 1024\n",
    "\n",
    "import skimage\n",
    "import skimage.io as sio\n",
    "import skimage.transform\n",
    "import fracatal\n",
    "\n",
    "from fracatal.functional_jax.convolve import ft_convolve\n",
    "from fracatal.functional_jax.compose import make_gaussian, \\\n",
    "        make_mixed_gaussian, \\\n",
    "        make_kernel_field, \\\n",
    "        make_update_function, \\\n",
    "        make_update_step, \\\n",
    "        make_make_kernel_function\n",
    "       \n",
    "\n",
    "from fracatal.functional_jax.metrics import compute_entropy, \\\n",
    "        compute_frequency_ratio, \\\n",
    "        compute_frequency_entropy\n",
    "        \n",
    "from fracatal.scripts import v_stability_sweep, stability_sweep     \n",
    "\n",
    "import IPython"
   ]
  },
  {
   "cell_type": "code",
   "execution_count": null,
   "id": "882ed45c-e2ab-4ebf-ad1f-e88a8c01731e",
   "metadata": {},
   "outputs": [],
   "source": [
    "\"\"\"\n",
    "animation functions\n",
    "\"\"\"\n",
    "\n",
    "def get_fig(grid):\n",
    "    \n",
    "    global subplot_0\n",
    "    \n",
    "    fig, ax = plt.subplots(1,1)\n",
    "    \n",
    "    subplot_0 = ax.imshow(grid.squeeze(), cmap=\"magma\")\n",
    "    \n",
    "    return fig, ax\n",
    "\n",
    "def update_frame(ii):\n",
    "    \n",
    "    global grid\n",
    "    \n",
    "    subplot_0.set_array(grid.squeeze())\n",
    "    \n",
    "    grid = update_step(grid)"
   ]
  },
  {
   "cell_type": "code",
   "execution_count": null,
   "id": "61d66478-4dae-4917-a983-3e5cab2f5831",
   "metadata": {},
   "outputs": [],
   "source": [
    "! ls ../patterns"
   ]
  },
  {
   "cell_type": "code",
   "execution_count": null,
   "id": "6df2481e-7826-4223-89c4-89172170340e",
   "metadata": {},
   "outputs": [],
   "source": [
    "#pattern_name = \"scutium_gravidus_single\"\n",
    "pattern_name = \"orbium_unicaudatus\"\n",
    "#pattern_name = \"hydrogeminium_natans_pickle\"\n",
    "#pattern_name = \"hydrogeminium_natans_wobbler\"\n",
    "#pattern_name = \"hydrogeminium_natans_crispus_31\""
   ]
  },
  {
   "cell_type": "code",
   "execution_count": null,
   "id": "f31fd6bc-9ab0-4e80-84f9-2f43c1c5b87c",
   "metadata": {},
   "outputs": [],
   "source": [
    "#### kernels\n",
    "\n",
    "if \"orbium\" in pattern_name:\n",
    "    #o. unicaudatus\n",
    "    # the neighborhood kernel\n",
    "    amplitudes = [1.0]\n",
    "    means = [0.5]\n",
    "    standard_deviations = [0.15]\n",
    "    k0 = 13\n",
    "elif \"hydrogeminium_natans\" in pattern_name:\n",
    "    # H. natans\n",
    "    \n",
    "    # the neighborhood kernel\n",
    "    amplitudes = [0.5, 1.0, 0.6667]\n",
    "    means = [0.0938, 0.2814, 0.4690]\n",
    "    standard_deviations = [0.0330, 0.0330, 0.0330]\n",
    "    k0 = 31\n",
    "elif \"scutium_gravidus\" in pattern_name:\n",
    "    \n",
    "    amplitudes = [1.0]\n",
    "    means = [0.5]\n",
    "    standard_deviations = [0.15]\n",
    "    k0 = 13\n",
    "\n",
    "#### Growth functions\n",
    "\n",
    "if \"orbium\" in pattern_name:\n",
    "    # O. unicaudatus\n",
    "    mean_g = 0.15\n",
    "    standard_deviation_g = 0.017\n",
    "elif \"hydrogeminium_natans\" in pattern_name:\n",
    "    # H. natans\n",
    "    mean_g = 0.26\n",
    "    standard_deviation_g = 0.036\n",
    "elif \"scutium_gravidus\" in pattern_name:\n",
    "        \n",
    "    mean_g = 0.283\n",
    "    standard_deviation_g = 0.0369"
   ]
  },
  {
   "cell_type": "code",
   "execution_count": null,
   "id": "8c42b723-4dd9-4c31-9825-a2d7d9a56c76",
   "metadata": {},
   "outputs": [],
   "source": [
    "mean_g = 0.119\n",
    "standard_deviation_g = 0.0148\n",
    "\n",
    "pattern_name = \"orbium_bicaudatus\""
   ]
  },
  {
   "cell_type": "code",
   "execution_count": null,
   "id": "bcdc650c-f464-4378-bb76-5380b0a9e2fe",
   "metadata": {},
   "outputs": [],
   "source": [
    "kernel_radius = k0 \n",
    "num_frames = 256\n",
    "dts = 0.025\n",
    "\n",
    "make_kernel = make_make_kernel_function(amplitudes, means, standard_deviations,dim=grid_dim-6)\n",
    "kernel = make_kernel(kernel_radius)\n",
    "\n",
    "my_update = make_update_function(mean_g, standard_deviation_g)\n",
    "clipping_fn = lambda x: np.clip(x, 0, 1.0)\n",
    "update_step = make_update_step(my_update, kernel, dts, clipping_function=clipping_fn)\n",
    "\n",
    "pattern_filepath = os.path.join(\"..\", \"patterns\", f\"{pattern_name}.npy\")\n",
    "\n",
    "pattern = np.load(pattern_filepath)\n",
    "\n",
    "frac = 20\n",
    "grid = np.zeros((1, 1, grid_dim, grid_dim))\n",
    "\n",
    "grid = grid.at[:,:,:grid_dim//frac, :grid_dim//frac].set(npr.rand(1,1,grid_dim//frac, grid_dim//frac))\n",
    "\n",
    "#grid = grid.at[:,:,:grid_dim//2, :].set(npr.rand(1,1,grid_dim//2, grid_dim))\n",
    "grid = grid.at[:,:,45:45+pattern.shape[-2], 45:45+pattern.shape[-1]].set(pattern)\n",
    "\n",
    "mass_0 = grid.sum().item()\n",
    "relative_mass = [mass_0/mass_0]\n",
    "\n",
    "for my_step in range(0):\n",
    "    grid = update_step(grid)\n",
    "    mass_n = grid.sum().item()\n",
    "\n",
    "    relative_mass.append(mass_n / mass_0)\n",
    "\n",
    "relative_mass = np.array(relative_mass)\n",
    "print(pattern_name)\n",
    "print(f\"mean +/- std. dev: {np.mean(relative_mass):.3f}+/-{np.std(relative_mass):.3f}\")\n",
    "print(f\"min, max growth: {np.min(relative_mass):.3f}, {np.max(relative_mass):.3f} \")\n",
    "\n",
    "\n",
    "fig, ax = get_fig(grid[0])\n",
    "plt.close()\n",
    "\n",
    "IPython.display.HTML(matplotlib.animation.FuncAnimation(fig, update_frame, frames=num_frames, interval=10).to_jshtml())"
   ]
  },
  {
   "cell_type": "code",
   "execution_count": null,
   "id": "ec7bc06b-5f4e-43bb-85f6-b55a6d26a6a1",
   "metadata": {},
   "outputs": [],
   "source": [
    "#grid_donut = 1.0 * grid\n",
    "grid = 1.0 * grid_pattern\n",
    "IPython.display.HTML(matplotlib.animation.FuncAnimation(fig, update_frame, frames=1024, interval=10).to_jshtml())"
   ]
  },
  {
   "cell_type": "code",
   "execution_count": null,
   "id": "be733d8c-454d-49db-99df-d9e9b870a967",
   "metadata": {},
   "outputs": [],
   "source": [
    "grid *= 0\n",
    "grid = grid.at[:,:, 222:242, 99:119].set(temp)"
   ]
  },
  {
   "cell_type": "code",
   "execution_count": null,
   "id": "d28653d6-1ee5-47a5-bd2c-c274b2a9962e",
   "metadata": {},
   "outputs": [],
   "source": [
    "#grid_0 = grid* 1.0\n",
    "\n",
    "#plt.imshow(grid.squeeze())# [90:110, 110:140])\n",
    "#plt.show()\n",
    "\n",
    "temp = grid[:,:, 222:242, 99:119]\n",
    "print(temp.shape)\n",
    "plt.imshow(temp.squeeze())\n",
    "\n",
    "if(1):    \n",
    "    pattern_name = \"orbium_bicaudatus\"\n",
    "    my_cmap= plt.get_cmap(\"magma\")\n",
    "    sio.imsave(f\"../patterns/{pattern_name}.png\", np.uint8(255*my_cmap(temp.squeeze())[:,:,:3]))\n",
    "    np.save(f\"../patterns/{pattern_name}.npy\", temp)\n"
   ]
  },
  {
   "cell_type": "code",
   "execution_count": null,
   "id": "a1164f7a-bcf3-4da6-afdb-40b1ff23b755",
   "metadata": {},
   "outputs": [],
   "source": [
    "num_frames = 100\n",
    "\n",
    "\n",
    "stride = 64\n",
    "period = 42\n",
    "for ii in range(0,grid.shape[-2]-period, stride):\n",
    "    for jj in range(0,grid.shape[-2]-period, stride):\n",
    "        grid = grid.at[:,:,ii:ii+period,:].set(0)\n",
    "        grid = grid.at[:,:,:,jj:jj+period].set(0)\n",
    "\n",
    "plt.imshow(grid.squeeze())\n",
    "plt.show()\n",
    "\n",
    "IPython.display.HTML(matplotlib.animation.FuncAnimation(fig, update_frame, frames=num_frames, interval=10).to_jshtml())"
   ]
  },
  {
   "cell_type": "code",
   "execution_count": null,
   "id": "5c134131-9571-4438-8c0f-622deb70d003",
   "metadata": {},
   "outputs": [],
   "source": [
    "#grid_donut = 1.0 * gri\n",
    "grid = 1.0 * grid_pattern\n",
    "IPython.display.HTML(matplotlib.animation.FuncAnimation(fig, update_frame, frames=1024, interval=10).to_jshtml())"
   ]
  },
  {
   "cell_type": "code",
   "execution_count": null,
   "id": "6fb2e50d-096e-4693-b294-230973d91ae0",
   "metadata": {},
   "outputs": [],
   "source": [
    "grid_0 = 1.0 * grid\n",
    "#grid = grid.at[:,:,80:120, :].set(0.0)\n",
    "#grid_0 = 1.0 * grid\n",
    "plt.imshow(grid[:,:,84:108, 3:27].squeeze())\n",
    "plt.show()\n"
   ]
  },
  {
   "cell_type": "code",
   "execution_count": null,
   "id": "fb8fed88-dfe9-4592-9dc1-12a2e051d9f0",
   "metadata": {},
   "outputs": [],
   "source": [
    "plt.imshow(grid_donut.squeeze())"
   ]
  },
  {
   "cell_type": "code",
   "execution_count": null,
   "id": "1fa5252d-a17a-4311-a760-6c299d944ced",
   "metadata": {},
   "outputs": [],
   "source": [
    "x = np.arange(0, 1.0 ,0.001)\n",
    "y = my_update(x)\n",
    "plt.plot(x,y)"
   ]
  },
  {
   "cell_type": "code",
   "execution_count": null,
   "id": "c12d62ac-0e95-4869-baa2-bb862c869767",
   "metadata": {},
   "outputs": [],
   "source": [
    "gyrorbium_ignis = 1 * gyrorbium_2[:,:,82:106,109:132]\n",
    "\n",
    "\n",
    "plt.subplot(121)\n",
    "plt.imshow(orbium_unicaudatus_ignis.squeeze())\n",
    "plt.subplot(122)\n",
    "plt.imshow(gyrorbium_ignis.squeeze())"
   ]
  },
  {
   "cell_type": "code",
   "execution_count": null,
   "id": "adb70e48-e78b-4b5c-81bc-3698d64002cf",
   "metadata": {},
   "outputs": [],
   "source": [
    "#grid_1 = 1*grid\n",
    "grid_1 = grid_1.at[:,:,:50,:].set(0.0)\n",
    "grid_1 = grid_1.at[:,:,150:,:].set(0.0)\n",
    "plt.imshow(grid_1.squeeze())"
   ]
  },
  {
   "cell_type": "code",
   "execution_count": null,
   "id": "b6b4c6ff-c910-4d95-92db-980aa2a754e7",
   "metadata": {},
   "outputs": [],
   "source": [
    "kernel_radius = k0\n",
    "grid_dim = 256\n",
    "num_frames = 2\n",
    "dts = 0.05\n",
    "standard_deviation_g = 0.0224\n",
    "mean_g = 0.156\n",
    "\n",
    "mean_g, standard_deviation_g, grid.mean()\n",
    "\n",
    "make_kernel = make_make_kernel_function(amplitudes, means, standard_deviations,dim=122)\n",
    "kernel = make_kernel(kernel_radius)\n",
    "\n",
    "my_update = make_update_function(mean_g, standard_deviation_g)\n",
    "clipping_fn = lambda x: np.clip(x, 0, 1.0)\n",
    "update_step = make_update_step(my_update, kernel, dts, clipping_function=clipping_fn)\n",
    "\n",
    "pattern_filepath = os.path.join(\"..\", \"patterns\", f\"{pattern_name}.npy\")\n",
    "\n",
    "pattern = np.load(pattern_filepath)\n",
    "\n",
    "mass_0 = grid.sum().item()\n",
    "relative_mass = [mass_0/mass_0]\n",
    "\n",
    "for ii in range(0,grid_dim,64):\n",
    "    \n",
    "    grid = grid.at[:,:,ii:ii+pattern.shape[-2], :pattern.shape[-1]].set(pattern)\n",
    "\n",
    "for my_step in range(0): #1024):\n",
    "    grid = update_step(grid)\n",
    "    mass_n = grid.sum().item()\n",
    "\n",
    "    relative_mass.append(mass_n / mass_0)\n",
    "\n",
    "relative_mass = np.array(relative_mass)\n",
    "print(pattern_name)\n",
    "print(f\"mean +/- std. dev: {np.mean(relative_mass):.3f}+/-{np.std(relative_mass):.3f}\")\n",
    "print(f\"min, max growth: {np.min(relative_mass):.3f}, {np.max(relative_mass):.3f} \")\n",
    "\n",
    "\n",
    "fig, ax = get_fig(grid[0])\n",
    "plt.show()\n",
    "\n",
    "IPython.display.HTML(matplotlib.animation.FuncAnimation(fig, update_frame, frames=num_frames, interval=10).to_jshtml())"
   ]
  },
  {
   "cell_type": "code",
   "execution_count": null,
   "id": "15d1c040-206b-4ddf-b75b-70803f31775b",
   "metadata": {},
   "outputs": [],
   "source": [
    "pattern.shape"
   ]
  },
  {
   "cell_type": "code",
   "execution_count": null,
   "id": "85fde3a1-08bf-466f-8b2a-90b69f3576a8",
   "metadata": {},
   "outputs": [],
   "source": [
    "#grid = 0* grid\n",
    "kernel_radius = k0\n",
    "grid_dim = 256\n",
    "num_frames = 2\n",
    "dts = 0.05\n",
    "standard_deviation_g = 0.0511\n",
    "mean_g = 0.293\n",
    "\n",
    "mean_g, standard_deviation_g, grid.mean()\n",
    "\n",
    "make_kernel = make_make_kernel_function(amplitudes, means, standard_deviations,dim=122)\n",
    "kernel = make_kernel(kernel_radius)\n",
    "\n",
    "my_update = make_update_function(mean_g, standard_deviation_g)\n",
    "clipping_fn = lambda x: np.clip(x, 0, 1.0)\n",
    "update_step = make_update_step(my_update, kernel, dts, clipping_function=clipping_fn)\n",
    "\n",
    "if(0):\n",
    "    for jj in range(0,grid_dim-40, pattern.shape[-2]+2):\n",
    "        for ii in range(0,grid_dim-40,pattern.shape[-1]+2):\n",
    "            \n",
    "            grid = grid.at[:,:,ii:ii+pattern.shape[-2], jj:jj+pattern.shape[-1]].set(pattern)\n",
    "\n",
    "\n",
    "grid = grid.at[:,:,:100,:].set(0.0)\n",
    "grid = grid.at[:,:,200:,:].set(0.0)\n",
    "fig, ax = get_fig(grid[0])\n",
    "plt.show()\n",
    "\n",
    "IPython.display.HTML(matplotlib.animation.FuncAnimation(fig, update_frame, frames=100, interval=20).to_jshtml())\n",
    "    "
   ]
  },
  {
   "cell_type": "code",
   "execution_count": null,
   "id": "1444c45f-db15-49ff-9777-b836c38926cc",
   "metadata": {},
   "outputs": [],
   "source": [
    "for ii in range(0,grid_dim, 48):\n",
    "    grid = grid.at[:,:,:,ii:ii+24].set(0.0)\n",
    "    \n",
    "for ii in range(0,grid_dim, 48):\n",
    "    grid = grid.at[:,:,ii:ii+24,:].set(0.0)\n",
    "\n",
    "fig, ax = get_fig(grid[0])\n",
    "plt.show()\n",
    "\n",
    "IPython.display.HTML(matplotlib.animation.FuncAnimation(fig, update_frame, frames=100, interval=10).to_jshtml())"
   ]
  },
  {
   "cell_type": "code",
   "execution_count": null,
   "id": "d330ab63-54f8-491d-8dee-d2ec0568c4a3",
   "metadata": {},
   "outputs": [],
   "source": [
    "#temp3 = grid[:,:, 100:140, 10:54]\n",
    "plt.imshow(temp3.squeeze())"
   ]
  },
  {
   "cell_type": "code",
   "execution_count": null,
   "id": "6409d3f8-6d5e-4d69-ba0a-276d33942d0e",
   "metadata": {},
   "outputs": [],
   "source": [
    "\n",
    "IPython.display.HTML(matplotlib.animation.FuncAnimation(fig, update_frame, frames=100, interval=10).to_jshtml())"
   ]
  },
  {
   "cell_type": "code",
   "execution_count": null,
   "id": "ce708cf6-aa48-4a2e-8f7e-49f950e1b8bb",
   "metadata": {},
   "outputs": [],
   "source": [
    "pattern = temp3 * 1.0 "
   ]
  },
  {
   "cell_type": "code",
   "execution_count": null,
   "id": "db1d0bc5-52e3-4879-8e20-b1fc6388c3cd",
   "metadata": {},
   "outputs": [],
   "source": [
    "pattern = pattern[:,:,4:30,8:34]\n",
    "pattern.shape"
   ]
  },
  {
   "cell_type": "code",
   "execution_count": null,
   "id": "326d6074-cd7a-4a6c-9556-e0e0fb3485ef",
   "metadata": {},
   "outputs": [],
   "source": [
    "#gyrorbium.shape\n",
    "pattern = 1.0 * gyrorbium_ignis\n",
    "pattern_name = \"gyrorbium_ignis\"\n",
    "\n",
    "np.save(f\"../patterns/{pattern_name}.npy\", pattern)\n",
    "\n",
    "save_image = np.array(255*plt.get_cmap(\"magma\")(pattern.squeeze())[:,:,:3], dtype=np.uint8)\n",
    "\n",
    "plt.imshow(save_image)\n",
    "\n",
    "sio.imsave(f\"../patterns/{pattern_name}.png\", save_image)"
   ]
  },
  {
   "cell_type": "code",
   "execution_count": null,
   "id": "f4331a26-c110-476c-b045-a5b6f884fc48",
   "metadata": {},
   "outputs": [],
   "source": [
    "temp = grid[:,:,43:68, 38:62]\n",
    "\n",
    "plt.imshow(temp.squeeze())\n",
    "\n",
    "np.save(\"../patterns/hydrogeminium_natans_crispus_31.npy\", temp)\n",
    "\n",
    "save_image = np.array(255*plt.get_cmap(\"magma\")(temp.squeeze())[:,:,:3], dtype=np.uint8)\n",
    "\n",
    "plt.imshow(save_image)\n",
    "sio.imsave(\"../patterns/hydrogeminium_natans_crispus_31.png\", save_image)"
   ]
  },
  {
   "cell_type": "markdown",
   "id": "973d69a9-dd2a-4359-ad9e-236fd81d26f3",
   "metadata": {},
   "source": [
    "# Results \n",
    "\n",
    "## S. gravidus\n",
    "scutium_gravidus_single\n",
    "mean +/- std. dev: 1.004+/-0.007\n",
    "min, max growth: 0.987, 1.025 \n",
    "\n",
    "## O. unicaudatus\n",
    "orbium_orbium\n",
    "mean +/- std. dev: 1.061+/-0.004\n",
    "min, max growth: 1.000, 1.079 \n",
    "\n",
    "## h. natans pickle (dt 0.4)\n",
    "hydrogeminium_natans_pickle\n",
    "mean +/- std. dev: 0.997+/-0.004\n",
    "min, max growth: 0.981, 1.011 \n",
    "\n",
    "## h. natans wobbler (dt 0.4)\n",
    "hydrogeminium_natans_wobbler\n",
    "mean +/- std. dev: 1.096+/-0.019\n",
    "min, max growth: 1.000, 1.186  \n",
    "\n",
    "## h. natans crispus (dt 0.5)\n",
    "hydrogeminium_natans_crispus_31\n",
    "mean +/- std. dev: 1.001+/-0.004\n",
    "min, max growth: 0.987, 1.015 \n",
    "\n",
    "Note that the conversion of H. natans wobbler to H. natans crispus:\n",
    "hydrogeminium_natans_wobbler\n",
    "mean +/- std. dev: 0.863+/-0.026\n",
    "min, max growth: 0.813, 1.306 "
   ]
  },
  {
   "cell_type": "code",
   "execution_count": null,
   "id": "5bcd5442-2f6a-4205-91f2-4e0370480a01",
   "metadata": {},
   "outputs": [],
   "source": []
  }
 ],
 "metadata": {
  "kernelspec": {
   "display_name": "Python 3 (ipykernel)",
   "language": "python",
   "name": "python3"
  },
  "language_info": {
   "codemirror_mode": {
    "name": "ipython",
    "version": 3
   },
   "file_extension": ".py",
   "mimetype": "text/x-python",
   "name": "python",
   "nbconvert_exporter": "python",
   "pygments_lexer": "ipython3",
   "version": "3.8.0"
  }
 },
 "nbformat": 4,
 "nbformat_minor": 5
}
